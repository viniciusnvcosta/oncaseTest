{
 "cells": [
  {
   "cell_type": "markdown",
   "id": "6d977b35-c043-40c1-b0b4-6fa4d99ca00a",
   "metadata": {},
   "source": [
    "# Análise descritiva dos dados (EDA)"
   ]
  },
  {
   "cell_type": "markdown",
   "id": "065a64a2-cdaf-4a89-81ff-5fb95c210188",
   "metadata": {},
   "source": [
    "1. Construa uma análise descritiva extraindo conhecimento das variáveis e apresentando quais insights podem ser obtidos a partir delas;\n",
    "\n",
    "2. Mostre-nos um caminho para selecionar **graficamente** as variáveis mais ou menos importantes para cada problema, como elas se relacionam e porquê.\n",
    "\n",
    "3. Em cada problema descreva quais outras técnicas poderiam ser aplicadas e porquê você não as escolheu.\n",
    "\n",
    "4. Utilize os dados: eda_receitas_data.zip"
   ]
  },
  {
   "cell_type": "markdown",
   "id": "7b4b7a49-eee2-4e66-a618-b4aa09a91602",
   "metadata": {},
   "source": [
    "### Sumário (ToC)\n",
    "\n"
   ]
  },
  {
   "cell_type": "markdown",
   "id": "ee65e878-64a6-4155-9b0e-03916e1ef034",
   "metadata": {},
   "source": [
    "### Imports"
   ]
  },
  {
   "cell_type": "code",
   "execution_count": 1,
   "id": "34100a6e-f87e-4576-adbf-f0d3c7eed015",
   "metadata": {},
   "outputs": [],
   "source": [
    "import matplotlib.pyplot as plt\n",
    "import numpy as np\n",
    "import pandas as pd\n",
    "import scipy.stats as ss\n",
    "import seaborn as sns\n",
    "import missingno as msno\n",
    "from icecream import ic"
   ]
  },
  {
   "cell_type": "code",
   "execution_count": 2,
   "id": "54a430e6-7637-4334-8ad9-2c2632a9babb",
   "metadata": {},
   "outputs": [],
   "source": [
    "import warnings\n",
    "\n",
    "warnings.simplefilter(action=\"ignore\", category=FutureWarning)"
   ]
  },
  {
   "cell_type": "code",
   "execution_count": 3,
   "id": "7c616b4b-00b7-41cf-9e18-0e5d8e300cf9",
   "metadata": {},
   "outputs": [],
   "source": [
    "sns.set_style(\"darkgrid\", {\"grid.color\": \".6\", \"grid.linestyle\": \":\"})"
   ]
  },
  {
   "cell_type": "markdown",
   "id": "71878d85-764d-4e20-b880-c3740524f0bf",
   "metadata": {},
   "source": [
    "## Data Inspection\n",
    "analisando a estrutura dos dados"
   ]
  },
  {
   "cell_type": "code",
   "execution_count": 4,
   "id": "8e688ccd-7e51-4e69-bc77-4c4dacca9db2",
   "metadata": {},
   "outputs": [],
   "source": [
    "df = pd.read_json(\"receitas.json\")"
   ]
  },
  {
   "cell_type": "code",
   "execution_count": 5,
   "id": "0ed1577e-4885-492b-b69a-9553f9b071b1",
   "metadata": {},
   "outputs": [
    {
     "name": "stdout",
     "output_type": "stream",
     "text": [
      "(20130, 11)\n",
      "The dataset has 20130 rows and 11 columns.\n"
     ]
    }
   ],
   "source": [
    "init_samples = df.shape[0]\n",
    "\n",
    "print(df.shape)\n",
    "print(f\"The dataset has {df.shape[0]} rows and {df.shape[1]} columns.\")"
   ]
  },
  {
   "cell_type": "code",
   "execution_count": 6,
   "id": "e432a184-db7e-462b-aab3-c14059a3ebb6",
   "metadata": {
    "scrolled": true,
    "tags": []
   },
   "outputs": [
    {
     "data": {
      "text/html": [
       "<div>\n",
       "<style scoped>\n",
       "    .dataframe tbody tr th:only-of-type {\n",
       "        vertical-align: middle;\n",
       "    }\n",
       "\n",
       "    .dataframe tbody tr th {\n",
       "        vertical-align: top;\n",
       "    }\n",
       "\n",
       "    .dataframe thead th {\n",
       "        text-align: right;\n",
       "    }\n",
       "</style>\n",
       "<table border=\"1\" class=\"dataframe\">\n",
       "  <thead>\n",
       "    <tr style=\"text-align: right;\">\n",
       "      <th></th>\n",
       "      <th>directions</th>\n",
       "      <th>fat</th>\n",
       "      <th>date</th>\n",
       "      <th>categories</th>\n",
       "      <th>calories</th>\n",
       "      <th>desc</th>\n",
       "      <th>protein</th>\n",
       "      <th>rating</th>\n",
       "      <th>title</th>\n",
       "      <th>ingredients</th>\n",
       "      <th>sodium</th>\n",
       "    </tr>\n",
       "  </thead>\n",
       "  <tbody>\n",
       "    <tr>\n",
       "      <th>0</th>\n",
       "      <td>[1. Place the stock, lentils, celery, carrot, ...</td>\n",
       "      <td>7.0</td>\n",
       "      <td>2006-09-01 04:00:00+00:00</td>\n",
       "      <td>[Sandwich, Bean, Fruit, Tomato, turkey, Vegeta...</td>\n",
       "      <td>426.0</td>\n",
       "      <td>None</td>\n",
       "      <td>30.0</td>\n",
       "      <td>2.500</td>\n",
       "      <td>Lentil, Apple, and Turkey Wrap</td>\n",
       "      <td>[4 cups low-sodium vegetable or chicken stock,...</td>\n",
       "      <td>559.0</td>\n",
       "    </tr>\n",
       "    <tr>\n",
       "      <th>1</th>\n",
       "      <td>[Combine first 9 ingredients in heavy medium s...</td>\n",
       "      <td>23.0</td>\n",
       "      <td>2004-08-20 04:00:00+00:00</td>\n",
       "      <td>[Food Processor, Onion, Pork, Bake, Bastille D...</td>\n",
       "      <td>403.0</td>\n",
       "      <td>This uses the same ingredients found in boudin...</td>\n",
       "      <td>18.0</td>\n",
       "      <td>4.375</td>\n",
       "      <td>Boudin Blanc Terrine with Red Onion Confit</td>\n",
       "      <td>[1 1/2 cups whipping cream, 2 medium onions, c...</td>\n",
       "      <td>1439.0</td>\n",
       "    </tr>\n",
       "    <tr>\n",
       "      <th>2</th>\n",
       "      <td>[In a large heavy saucepan cook diced fennel a...</td>\n",
       "      <td>7.0</td>\n",
       "      <td>2004-08-20 04:00:00+00:00</td>\n",
       "      <td>[Soup/Stew, Dairy, Potato, Vegetable, Fennel, ...</td>\n",
       "      <td>165.0</td>\n",
       "      <td>None</td>\n",
       "      <td>6.0</td>\n",
       "      <td>3.750</td>\n",
       "      <td>Potato and Fennel Soup Hodge</td>\n",
       "      <td>[1 fennel bulb (sometimes called anise), stalk...</td>\n",
       "      <td>165.0</td>\n",
       "    </tr>\n",
       "    <tr>\n",
       "      <th>3</th>\n",
       "      <td>[Heat oil in heavy large skillet over medium-h...</td>\n",
       "      <td>NaN</td>\n",
       "      <td>2009-03-27 04:00:00+00:00</td>\n",
       "      <td>[Fish, Olive, Tomato, Sauté, Low Fat, Low Cal,...</td>\n",
       "      <td>NaN</td>\n",
       "      <td>The Sicilian-style tomato sauce has tons of Me...</td>\n",
       "      <td>NaN</td>\n",
       "      <td>5.000</td>\n",
       "      <td>Mahi-Mahi in Tomato Olive Sauce</td>\n",
       "      <td>[2 tablespoons extra-virgin olive oil, 1 cup c...</td>\n",
       "      <td>NaN</td>\n",
       "    </tr>\n",
       "    <tr>\n",
       "      <th>4</th>\n",
       "      <td>[Preheat oven to 350°F. Lightly grease 8x8x2-i...</td>\n",
       "      <td>32.0</td>\n",
       "      <td>2004-08-20 04:00:00+00:00</td>\n",
       "      <td>[Cheese, Dairy, Pasta, Vegetable, Side, Bake, ...</td>\n",
       "      <td>547.0</td>\n",
       "      <td>None</td>\n",
       "      <td>20.0</td>\n",
       "      <td>3.125</td>\n",
       "      <td>Spinach Noodle Casserole</td>\n",
       "      <td>[1 12-ounce package frozen spinach soufflé, th...</td>\n",
       "      <td>452.0</td>\n",
       "    </tr>\n",
       "  </tbody>\n",
       "</table>\n",
       "</div>"
      ],
      "text/plain": [
       "                                          directions   fat  \\\n",
       "0  [1. Place the stock, lentils, celery, carrot, ...   7.0   \n",
       "1  [Combine first 9 ingredients in heavy medium s...  23.0   \n",
       "2  [In a large heavy saucepan cook diced fennel a...   7.0   \n",
       "3  [Heat oil in heavy large skillet over medium-h...   NaN   \n",
       "4  [Preheat oven to 350°F. Lightly grease 8x8x2-i...  32.0   \n",
       "\n",
       "                       date  \\\n",
       "0 2006-09-01 04:00:00+00:00   \n",
       "1 2004-08-20 04:00:00+00:00   \n",
       "2 2004-08-20 04:00:00+00:00   \n",
       "3 2009-03-27 04:00:00+00:00   \n",
       "4 2004-08-20 04:00:00+00:00   \n",
       "\n",
       "                                          categories  calories  \\\n",
       "0  [Sandwich, Bean, Fruit, Tomato, turkey, Vegeta...     426.0   \n",
       "1  [Food Processor, Onion, Pork, Bake, Bastille D...     403.0   \n",
       "2  [Soup/Stew, Dairy, Potato, Vegetable, Fennel, ...     165.0   \n",
       "3  [Fish, Olive, Tomato, Sauté, Low Fat, Low Cal,...       NaN   \n",
       "4  [Cheese, Dairy, Pasta, Vegetable, Side, Bake, ...     547.0   \n",
       "\n",
       "                                                desc  protein  rating  \\\n",
       "0                                               None     30.0   2.500   \n",
       "1  This uses the same ingredients found in boudin...     18.0   4.375   \n",
       "2                                               None      6.0   3.750   \n",
       "3  The Sicilian-style tomato sauce has tons of Me...      NaN   5.000   \n",
       "4                                               None     20.0   3.125   \n",
       "\n",
       "                                         title  \\\n",
       "0              Lentil, Apple, and Turkey Wrap    \n",
       "1  Boudin Blanc Terrine with Red Onion Confit    \n",
       "2                Potato and Fennel Soup Hodge    \n",
       "3             Mahi-Mahi in Tomato Olive Sauce    \n",
       "4                    Spinach Noodle Casserole    \n",
       "\n",
       "                                         ingredients  sodium  \n",
       "0  [4 cups low-sodium vegetable or chicken stock,...   559.0  \n",
       "1  [1 1/2 cups whipping cream, 2 medium onions, c...  1439.0  \n",
       "2  [1 fennel bulb (sometimes called anise), stalk...   165.0  \n",
       "3  [2 tablespoons extra-virgin olive oil, 1 cup c...     NaN  \n",
       "4  [1 12-ounce package frozen spinach soufflé, th...   452.0  "
      ]
     },
     "execution_count": 6,
     "metadata": {},
     "output_type": "execute_result"
    }
   ],
   "source": [
    "df.head()"
   ]
  },
  {
   "cell_type": "code",
   "execution_count": 7,
   "id": "ac5ada44-1167-4135-9825-27954f661147",
   "metadata": {},
   "outputs": [
    {
     "data": {
      "text/plain": [
       "<bound method DataFrame.set_index of                                               directions   fat  \\\n",
       "0      [1. Place the stock, lentils, celery, carrot, ...   7.0   \n",
       "1      [Combine first 9 ingredients in heavy medium s...  23.0   \n",
       "2      [In a large heavy saucepan cook diced fennel a...   7.0   \n",
       "3      [Heat oil in heavy large skillet over medium-h...   NaN   \n",
       "4      [Preheat oven to 350°F. Lightly grease 8x8x2-i...  32.0   \n",
       "...                                                  ...   ...   \n",
       "20125  [Beat whites in a bowl with an electric mixer ...   2.0   \n",
       "20126  [Bring broth to simmer in saucepan.Remove from...  28.0   \n",
       "20127  [Using a sharp knife, cut a shallow X in botto...  38.0   \n",
       "20128  [Heat 2 tablespoons oil in heavy medium skille...  24.0   \n",
       "20129  [Position rack in bottom third of oven and pre...  10.0   \n",
       "\n",
       "                           date  \\\n",
       "0     2006-09-01 04:00:00+00:00   \n",
       "1     2004-08-20 04:00:00+00:00   \n",
       "2     2004-08-20 04:00:00+00:00   \n",
       "3     2009-03-27 04:00:00+00:00   \n",
       "4     2004-08-20 04:00:00+00:00   \n",
       "...                         ...   \n",
       "20125 2004-08-20 04:00:00+00:00   \n",
       "20126 2008-02-28 22:06:54+00:00   \n",
       "20127 2005-10-21 18:21:20+00:00   \n",
       "20128 2004-08-20 04:00:00+00:00   \n",
       "20129 2004-08-20 04:00:00+00:00   \n",
       "\n",
       "                                              categories  calories  \\\n",
       "0      [Sandwich, Bean, Fruit, Tomato, turkey, Vegeta...     426.0   \n",
       "1      [Food Processor, Onion, Pork, Bake, Bastille D...     403.0   \n",
       "2      [Soup/Stew, Dairy, Potato, Vegetable, Fennel, ...     165.0   \n",
       "3      [Fish, Olive, Tomato, Sauté, Low Fat, Low Cal,...       NaN   \n",
       "4      [Cheese, Dairy, Pasta, Vegetable, Side, Bake, ...     547.0   \n",
       "...                                                  ...       ...   \n",
       "20125  [Mixer, Cheese, Egg, Fry, Cocktail Party, Parm...      28.0   \n",
       "20126  [Side, Kid-Friendly, High Fiber, Dinner, Parme...     671.0   \n",
       "20127  [Onion, Poultry, turkey, Vegetable, Bake, Kid-...     563.0   \n",
       "20128  [Milk/Cream, Citrus, Dairy, Fish, Garlic, Past...     631.0   \n",
       "20129  [Pork, Bake, Roast, Christmas, Ham, Winter, Bo...     560.0   \n",
       "\n",
       "                                                    desc  protein  rating  \\\n",
       "0                                                   None     30.0   2.500   \n",
       "1      This uses the same ingredients found in boudin...     18.0   4.375   \n",
       "2                                                   None      6.0   3.750   \n",
       "3      The Sicilian-style tomato sauce has tons of Me...      NaN   5.000   \n",
       "4                                                   None     20.0   3.125   \n",
       "...                                                  ...      ...     ...   \n",
       "20125                                               None      2.0   3.125   \n",
       "20126  Cooking the artichokes with the rice infuses t...     22.0   4.375   \n",
       "20127                                               None     31.0   4.375   \n",
       "20128  Sharon Hooykaas of Los Alamitos, California, w...     45.0   4.375   \n",
       "20129  Although labeled fully cooked, the ham will st...     73.0   4.375   \n",
       "\n",
       "                                             title  \\\n",
       "0                  Lentil, Apple, and Turkey Wrap    \n",
       "1      Boudin Blanc Terrine with Red Onion Confit    \n",
       "2                    Potato and Fennel Soup Hodge    \n",
       "3                 Mahi-Mahi in Tomato Olive Sauce    \n",
       "4                        Spinach Noodle Casserole    \n",
       "...                                            ...   \n",
       "20125                              Parmesan Puffs    \n",
       "20126              Artichoke and Parmesan Risotto    \n",
       "20127                       Turkey Cream Puff Pie    \n",
       "20128     Snapper on Angel Hair with Citrus Cream    \n",
       "20129  Baked Ham with Marmalade-Horseradish Glaze    \n",
       "\n",
       "                                             ingredients  sodium  \n",
       "0      [4 cups low-sodium vegetable or chicken stock,...   559.0  \n",
       "1      [1 1/2 cups whipping cream, 2 medium onions, c...  1439.0  \n",
       "2      [1 fennel bulb (sometimes called anise), stalk...   165.0  \n",
       "3      [2 tablespoons extra-virgin olive oil, 1 cup c...     NaN  \n",
       "4      [1 12-ounce package frozen spinach soufflé, th...   452.0  \n",
       "...                                                  ...     ...  \n",
       "20125  [2 large egg whites, 3 oz Parmigiano-Reggiano,...    64.0  \n",
       "20126  [5 1/2 cups (or more) low-salt chicken broth, ...   583.0  \n",
       "20127  [1 small tomato, 1 small onion, finely chopped...   652.0  \n",
       "20128  [4 tablespoons olive oil, 4 shallots, thinly s...   517.0  \n",
       "20129  [1 18-pound fully cooked bone-in smoked ham, r...  3698.0  \n",
       "\n",
       "[20130 rows x 11 columns]>"
      ]
     },
     "execution_count": 7,
     "metadata": {},
     "output_type": "execute_result"
    }
   ],
   "source": [
    "df.set_index"
   ]
  },
  {
   "cell_type": "code",
   "execution_count": 8,
   "id": "aa1ec9bb-223e-46a9-ab21-6beced60f1f5",
   "metadata": {},
   "outputs": [
    {
     "data": {
      "text/plain": [
       "Index(['directions', 'fat', 'date', 'categories', 'calories', 'desc',\n",
       "       'protein', 'rating', 'title', 'ingredients', 'sodium'],\n",
       "      dtype='object')"
      ]
     },
     "execution_count": 8,
     "metadata": {},
     "output_type": "execute_result"
    }
   ],
   "source": [
    "df.columns"
   ]
  },
  {
   "cell_type": "code",
   "execution_count": 9,
   "id": "26594c3c-60c1-4c00-9a4d-148ecebee5de",
   "metadata": {
    "tags": []
   },
   "outputs": [
    {
     "name": "stdout",
     "output_type": "stream",
     "text": [
      "<class 'pandas.core.frame.DataFrame'>\n",
      "RangeIndex: 20130 entries, 0 to 20129\n",
      "Data columns (total 11 columns):\n",
      " #   Column       Non-Null Count  Dtype              \n",
      "---  ------       --------------  -----              \n",
      " 0   directions   20111 non-null  object             \n",
      " 1   fat          15908 non-null  float64            \n",
      " 2   date         20111 non-null  datetime64[ns, UTC]\n",
      " 3   categories   20111 non-null  object             \n",
      " 4   calories     15976 non-null  float64            \n",
      " 5   desc         13495 non-null  object             \n",
      " 6   protein      15929 non-null  float64            \n",
      " 7   rating       20100 non-null  float64            \n",
      " 8   title        20111 non-null  object             \n",
      " 9   ingredients  20111 non-null  object             \n",
      " 10  sodium       15974 non-null  float64            \n",
      "dtypes: datetime64[ns, UTC](1), float64(5), object(5)\n",
      "memory usage: 1.7+ MB\n"
     ]
    }
   ],
   "source": [
    "df.info(verbose=True)"
   ]
  },
  {
   "cell_type": "markdown",
   "id": "cdf1cd1f-c6c1-4f7c-99e8-28148da64952",
   "metadata": {},
   "source": [
    "#### Insights 1:\n",
    "- $1$ field tipo _data_ | $5$ fields tipo _float_ | $5$ fields tipo _object(string)_\n",
    "\n",
    "- várias observações nulas a tratar"
   ]
  },
  {
   "cell_type": "code",
   "execution_count": 10,
   "id": "1740bafa-d1b4-4558-a6c8-e4fcd8d18a40",
   "metadata": {},
   "outputs": [],
   "source": [
    "# evitando erro de tipagem\n",
    "for column in df:\n",
    "    df[column] = df[column].astype(df[column].dtype)"
   ]
  },
  {
   "cell_type": "code",
   "execution_count": 11,
   "id": "68f1ec98-a5b6-45b4-be76-af9cff2dc967",
   "metadata": {},
   "outputs": [
    {
     "name": "stdout",
     "output_type": "stream",
     "text": [
      "Index(['fat', 'calories', 'protein', 'rating', 'sodium'], dtype='object')\n",
      "Index(['directions', 'date', 'categories', 'desc', 'title', 'ingredients'], dtype='object')\n"
     ]
    }
   ],
   "source": [
    "numeric_cols = df.select_dtypes(include=[\"number\"]).columns\n",
    "print(numeric_cols)\n",
    "\n",
    "non_numeric_cols = df.select_dtypes(exclude=[\"number\"]).columns\n",
    "print(non_numeric_cols)"
   ]
  },
  {
   "cell_type": "markdown",
   "id": "f72ab044-7fc6-4c01-ac51-5b17ebf18174",
   "metadata": {
    "tags": []
   },
   "source": [
    "##### valores numéricos"
   ]
  },
  {
   "cell_type": "code",
   "execution_count": 12,
   "id": "90126a79-2142-4ad3-95cc-5fdcd7db8cb7",
   "metadata": {
    "scrolled": true,
    "tags": []
   },
   "outputs": [
    {
     "data": {
      "text/html": [
       "<div>\n",
       "<style scoped>\n",
       "    .dataframe tbody tr th:only-of-type {\n",
       "        vertical-align: middle;\n",
       "    }\n",
       "\n",
       "    .dataframe tbody tr th {\n",
       "        vertical-align: top;\n",
       "    }\n",
       "\n",
       "    .dataframe thead th {\n",
       "        text-align: right;\n",
       "    }\n",
       "</style>\n",
       "<table border=\"1\" class=\"dataframe\">\n",
       "  <thead>\n",
       "    <tr style=\"text-align: right;\">\n",
       "      <th></th>\n",
       "      <th>fat</th>\n",
       "      <th>calories</th>\n",
       "      <th>protein</th>\n",
       "      <th>rating</th>\n",
       "      <th>sodium</th>\n",
       "    </tr>\n",
       "  </thead>\n",
       "  <tbody>\n",
       "    <tr>\n",
       "      <th>count</th>\n",
       "      <td>1.590800e+04</td>\n",
       "      <td>1.597600e+04</td>\n",
       "      <td>15929.000000</td>\n",
       "      <td>20100.000000</td>\n",
       "      <td>1.597400e+04</td>\n",
       "    </tr>\n",
       "    <tr>\n",
       "      <th>mean</th>\n",
       "      <td>3.460975e+02</td>\n",
       "      <td>6.307857e+03</td>\n",
       "      <td>99.946199</td>\n",
       "      <td>3.713060</td>\n",
       "      <td>6.211474e+03</td>\n",
       "    </tr>\n",
       "    <tr>\n",
       "      <th>std</th>\n",
       "      <td>2.043102e+04</td>\n",
       "      <td>3.585851e+05</td>\n",
       "      <td>3835.616663</td>\n",
       "      <td>1.343144</td>\n",
       "      <td>3.328903e+05</td>\n",
       "    </tr>\n",
       "    <tr>\n",
       "      <th>min</th>\n",
       "      <td>0.000000e+00</td>\n",
       "      <td>0.000000e+00</td>\n",
       "      <td>0.000000</td>\n",
       "      <td>0.000000</td>\n",
       "      <td>0.000000e+00</td>\n",
       "    </tr>\n",
       "    <tr>\n",
       "      <th>25%</th>\n",
       "      <td>7.000000e+00</td>\n",
       "      <td>1.980000e+02</td>\n",
       "      <td>3.000000</td>\n",
       "      <td>3.750000</td>\n",
       "      <td>8.000000e+01</td>\n",
       "    </tr>\n",
       "    <tr>\n",
       "      <th>50%</th>\n",
       "      <td>1.700000e+01</td>\n",
       "      <td>3.310000e+02</td>\n",
       "      <td>8.000000</td>\n",
       "      <td>4.375000</td>\n",
       "      <td>2.940000e+02</td>\n",
       "    </tr>\n",
       "    <tr>\n",
       "      <th>75%</th>\n",
       "      <td>3.300000e+01</td>\n",
       "      <td>5.860000e+02</td>\n",
       "      <td>27.000000</td>\n",
       "      <td>4.375000</td>\n",
       "      <td>7.110000e+02</td>\n",
       "    </tr>\n",
       "    <tr>\n",
       "      <th>max</th>\n",
       "      <td>1.722763e+06</td>\n",
       "      <td>3.011122e+07</td>\n",
       "      <td>236489.000000</td>\n",
       "      <td>5.000000</td>\n",
       "      <td>2.767511e+07</td>\n",
       "    </tr>\n",
       "  </tbody>\n",
       "</table>\n",
       "</div>"
      ],
      "text/plain": [
       "                fat      calories        protein        rating        sodium\n",
       "count  1.590800e+04  1.597600e+04   15929.000000  20100.000000  1.597400e+04\n",
       "mean   3.460975e+02  6.307857e+03      99.946199      3.713060  6.211474e+03\n",
       "std    2.043102e+04  3.585851e+05    3835.616663      1.343144  3.328903e+05\n",
       "min    0.000000e+00  0.000000e+00       0.000000      0.000000  0.000000e+00\n",
       "25%    7.000000e+00  1.980000e+02       3.000000      3.750000  8.000000e+01\n",
       "50%    1.700000e+01  3.310000e+02       8.000000      4.375000  2.940000e+02\n",
       "75%    3.300000e+01  5.860000e+02      27.000000      4.375000  7.110000e+02\n",
       "max    1.722763e+06  3.011122e+07  236489.000000      5.000000  2.767511e+07"
      ]
     },
     "execution_count": 12,
     "metadata": {},
     "output_type": "execute_result"
    }
   ],
   "source": [
    "df[numeric_cols].describe()"
   ]
  },
  {
   "cell_type": "markdown",
   "id": "0010e02e-4730-4241-b457-c487c557f9cb",
   "metadata": {
    "tags": []
   },
   "source": [
    "##### valores literais"
   ]
  },
  {
   "cell_type": "code",
   "execution_count": null,
   "id": "350ff1bb-85af-4631-94d7-930674700679",
   "metadata": {
    "scrolled": true,
    "tags": []
   },
   "outputs": [
    {
     "name": "stderr",
     "output_type": "stream",
     "text": [
      "ic| df[non_numeric_cols].sample():                                              directions  \\\n",
      "                                   9567  [Steam parsnips over medium heat until tender,...   \n",
      "                                   \n",
      "                                                             date  \\\n",
      "                                   9567 2004-08-20 04:00:00+00:00   \n",
      "                                   \n",
      "                                                                                categories  \\\n",
      "                                   9567  [Mustard, Side, Sauté, Steam, Christmas, Thank...   \n",
      "                                   \n",
      "                                                                           desc  \\\n",
      "                                   9567  An excellent complement to roast pork.   \n",
      "                                   \n",
      "                                                                                    title  \\\n",
      "                                   9567  Maple-Glazed Parsnips with Popped Mustard Seeds    \n",
      "                                   \n",
      "                                                                               ingredients  \n",
      "                                   9567  [2 pounds parsnips, peeled, quartered lengthwi...  \n"
     ]
    },
    {
     "data": {
      "text/html": [
       "<div>\n",
       "<style scoped>\n",
       "    .dataframe tbody tr th:only-of-type {\n",
       "        vertical-align: middle;\n",
       "    }\n",
       "\n",
       "    .dataframe tbody tr th {\n",
       "        vertical-align: top;\n",
       "    }\n",
       "\n",
       "    .dataframe thead th {\n",
       "        text-align: right;\n",
       "    }\n",
       "</style>\n",
       "<table border=\"1\" class=\"dataframe\">\n",
       "  <thead>\n",
       "    <tr style=\"text-align: right;\">\n",
       "      <th></th>\n",
       "      <th>directions</th>\n",
       "      <th>date</th>\n",
       "      <th>categories</th>\n",
       "      <th>desc</th>\n",
       "      <th>title</th>\n",
       "      <th>ingredients</th>\n",
       "    </tr>\n",
       "  </thead>\n",
       "  <tbody>\n",
       "    <tr>\n",
       "      <th>9567</th>\n",
       "      <td>[Steam parsnips over medium heat until tender,...</td>\n",
       "      <td>2004-08-20 04:00:00+00:00</td>\n",
       "      <td>[Mustard, Side, Sauté, Steam, Christmas, Thank...</td>\n",
       "      <td>An excellent complement to roast pork.</td>\n",
       "      <td>Maple-Glazed Parsnips with Popped Mustard Seeds</td>\n",
       "      <td>[2 pounds parsnips, peeled, quartered lengthwi...</td>\n",
       "    </tr>\n",
       "  </tbody>\n",
       "</table>\n",
       "</div>"
      ],
      "text/plain": [
       "                                             directions  \\\n",
       "9567  [Steam parsnips over medium heat until tender,...   \n",
       "\n",
       "                          date  \\\n",
       "9567 2004-08-20 04:00:00+00:00   \n",
       "\n",
       "                                             categories  \\\n",
       "9567  [Mustard, Side, Sauté, Steam, Christmas, Thank...   \n",
       "\n",
       "                                        desc  \\\n",
       "9567  An excellent complement to roast pork.   \n",
       "\n",
       "                                                 title  \\\n",
       "9567  Maple-Glazed Parsnips with Popped Mustard Seeds    \n",
       "\n",
       "                                            ingredients  \n",
       "9567  [2 pounds parsnips, peeled, quartered lengthwi...  "
      ]
     },
     "execution_count": 13,
     "metadata": {},
     "output_type": "execute_result"
    }
   ],
   "source": [
    "ic(df[non_numeric_cols].sample())"
   ]
  },
  {
   "cell_type": "code",
   "execution_count": null,
   "id": "9c6b4b41-9332-41c2-b99a-9c130452b6f8",
   "metadata": {
    "scrolled": true,
    "tags": []
   },
   "outputs": [
    {
     "name": "stdout",
     "output_type": "stream",
     "text": [
      "de 1996-09-01 20:47:00+00:00 até 2016-12-13 13:00:00+00:00\n"
     ]
    }
   ],
   "source": [
    "print('de ' + str(df.date.min()) + ' até ' + str(df.date.max()))"
   ]
  },
  {
   "cell_type": "code",
   "execution_count": 20,
   "id": "83d41bfc-032b-4044-99ba-3ad7e02690ae",
   "metadata": {
    "tags": []
   },
   "outputs": [],
   "source": [
    "# estimativa de tags por receita\n",
    "cats = df.categories.values.tolist()\n",
    "y = []"
   ]
  },
  {
   "cell_type": "code",
   "execution_count": 19,
   "id": "18d827a2-88bf-4cd7-8c03-2505ce3a9c2a",
   "metadata": {
    "scrolled": true,
    "tags": []
   },
   "outputs": [
    {
     "name": "stdout",
     "output_type": "stream",
     "text": [
      "17\n",
      "9\n",
      "16\n",
      "13\n",
      "9\n",
      "15\n",
      "12\n",
      "17\n",
      "9\n",
      "11\n"
     ]
    },
    {
     "data": {
      "text/plain": [
       "12.298357664233576"
      ]
     },
     "execution_count": 19,
     "metadata": {},
     "output_type": "execute_result"
    }
   ],
   "source": [
    "for x in cats[50:60]:\n",
    "    y.append(len(x))\n",
    "    print(len(x))\n",
    "np.mean(y)"
   ]
  },
  {
   "cell_type": "markdown",
   "id": "f471ea60-5ef2-4358-9da8-434b15708f64",
   "metadata": {},
   "source": [
    "_List comprehension_ poderia ter sido usada, mas descartada devido a erros de tipagem ao calcular `np.array`'s"
   ]
  },
  {
   "cell_type": "markdown",
   "id": "32356940-c133-4ff1-bc2c-7fc7fdf6a760",
   "metadata": {},
   "source": [
    "### Dicionário de Features"
   ]
  },
  {
   "cell_type": "markdown",
   "id": "8ff2fcf2-c25e-4863-8d80-adb8821e9a12",
   "metadata": {},
   "source": [
    "| feature | descrição |\n",
    "| --- | :------ |\n",
    "| directions | passo a passo com as intruções de preparo |\n",
    "| fat | quantidade de gordura na receita |\n",
    "| date | data em que a receita foi adicionada |\n",
    "| __categories__ | _tags_ que categorizam o tipo de receita |\n",
    "| calories | quantidade de calorias na receita |\n",
    "| desc | detalhes e feedback sobre a receita |\n",
    "| protein | quantidade de proteína na receita |\n",
    "| __rating__ | nota entre 0 a 5 da receita |\n",
    "| title | Nome dado à receita |\n",
    "| ingredients | ingredientes usados na receita |"
   ]
  },
  {
   "cell_type": "markdown",
   "id": "94251064-e7ac-4c15-bb89-195a44759132",
   "metadata": {},
   "source": [
    "#### Insights 2:\n",
    "- **categories** e **rating** são possíveis valores de *target* ou *rotulação*\n",
    "\n",
    "- categories precisa de mais granularidade para análise\n",
    "\n",
    "- desagregar `date` e `time` possibilita mais análises de insight\n",
    "\n",
    "- A quantidade de categorias na receita e as tags em si tornam-se features interessantes"
   ]
  },
  {
   "cell_type": "markdown",
   "id": "3502399c-5aeb-4450-8166-a964c787e590",
   "metadata": {},
   "source": [
    "### Data quality"
   ]
  },
  {
   "cell_type": "markdown",
   "id": "6b61d52f-96a3-4fe2-b30f-a2f5e10c403b",
   "metadata": {},
   "source": [
    "##### valores ausentes"
   ]
  },
  {
   "cell_type": "code",
   "execution_count": null,
   "id": "3b969460-8ecc-44d2-8955-6ae5e3582bdc",
   "metadata": {
    "tags": []
   },
   "outputs": [],
   "source": [
    "# quantidade de valores ausentes por linha\n",
    "df.isnull().sum().sort_values(ascending=False)"
   ]
  },
  {
   "cell_type": "markdown",
   "id": "4005549d-9fc5-4349-80b0-ce2e9aa2950c",
   "metadata": {},
   "source": [
    "é plausível que a repetição do $nº 19$ não seja coincidência"
   ]
  },
  {
   "cell_type": "code",
   "execution_count": null,
   "id": "9b1047bb-345a-4012-93b0-ed3bb0813880",
   "metadata": {},
   "outputs": [],
   "source": [
    "msno.matrix(df, labels=True)"
   ]
  },
  {
   "cell_type": "markdown",
   "id": "c7e35094-8832-48f0-89bb-c69f16783f3c",
   "metadata": {},
   "source": [
    "há uma linha transversal na matrix, indicando linhas completamente vazias"
   ]
  },
  {
   "cell_type": "code",
   "execution_count": null,
   "id": "30a89001-8bf0-4955-8296-17252181ce0f",
   "metadata": {
    "scrolled": true,
    "tags": []
   },
   "outputs": [],
   "source": [
    "ic(df[df.title.isnull()].shape[0])\n",
    "df[df.title.isnull()]"
   ]
  },
  {
   "cell_type": "markdown",
   "id": "8e27dbc2-e6e0-4e46-94d4-a9af876622de",
   "metadata": {},
   "source": [
    "de fato, há $19$ colunas sem dados"
   ]
  },
  {
   "cell_type": "code",
   "execution_count": null,
   "id": "1f772c2d-4b84-4d1d-93ad-f27dbf7ec058",
   "metadata": {},
   "outputs": [],
   "source": [
    "df.isnull().mean().sort_values(ascending=False)"
   ]
  },
  {
   "cell_type": "markdown",
   "id": "2934ada5-d22a-4203-91ce-2fe087b056e2",
   "metadata": {},
   "source": [
    "##### valores duplicados"
   ]
  },
  {
   "cell_type": "code",
   "execution_count": null,
   "id": "a9ac477a-e948-480d-aafa-383fc3071689",
   "metadata": {
    "tags": []
   },
   "outputs": [],
   "source": [
    "ic(df.duplicated(['title','date','desc','rating']).value_counts())"
   ]
  },
  {
   "cell_type": "code",
   "execution_count": null,
   "id": "4e9fc6d3-d50a-4dc6-9994-068a1f91804c",
   "metadata": {
    "scrolled": true,
    "tags": []
   },
   "outputs": [],
   "source": [
    "df[df.duplicated(['title','date','desc','rating'], keep='first')]"
   ]
  },
  {
   "cell_type": "markdown",
   "id": "d0c77f4e-7d1c-40af-a2fd-66e0ed136d90",
   "metadata": {},
   "source": [
    "> Considerando que esta base tenha origem em um site de _reviews_, a repetição de alguns valores são aceitáveis ao modelo de negócio, mas nem todos. Por isso, _reviews_ muito similares serão removidas em sequência"
   ]
  },
  {
   "cell_type": "markdown",
   "id": "f85ba251-28e0-41e9-b603-9546a05ff313",
   "metadata": {},
   "source": [
    "##### valores únicos"
   ]
  },
  {
   "cell_type": "code",
   "execution_count": null,
   "id": "e595559e-46b4-487c-94cd-4d35eb8a712c",
   "metadata": {},
   "outputs": [],
   "source": [
    "unique_values = df[numeric_cols].nunique().sort_values(ascending=False)"
   ]
  },
  {
   "cell_type": "code",
   "execution_count": null,
   "id": "1bd829a4-4d7d-4220-b417-4726695d9c2a",
   "metadata": {},
   "outputs": [],
   "source": [
    "ic(unique_values)\n",
    "unique_values.plot.bar(\n",
    "    logy=True, figsize=(12, 6), title=\"Valores únicos por feature numérica\"\n",
    ");"
   ]
  },
  {
   "cell_type": "code",
   "execution_count": null,
   "id": "7f10c528-2822-4dd1-8d9f-e1bb0521e0b8",
   "metadata": {
    "scrolled": true,
    "tags": []
   },
   "outputs": [],
   "source": [
    "# cats = df['categories'].tolist()\n",
    "# cats\n",
    "# cats_flat = [i for cat in cats for i in cat]"
   ]
  },
  {
   "cell_type": "markdown",
   "id": "ed8a8738-ee01-4560-b37c-c4718ef3763d",
   "metadata": {},
   "source": [
    "## Data Wrangling\n",
    "Cleaning, Feature Engineering and Preprocessing"
   ]
  },
  {
   "cell_type": "markdown",
   "id": "419fe103-95b8-4913-9218-ddbbe3eec6da",
   "metadata": {},
   "source": [
    "##### To-Do:\n",
    "\n",
    "1. Remover valores duplicados\n",
    "\n",
    "2. Remover as linhas mais incompletas\n",
    "    1. sem valores\n",
    "    2. muitas features faltantes    \n",
    "\n",
    "\n",
    "3. Completar valores faltantes com _Imputer_\n",
    "\n",
    "4. Gerar novas features\n",
    "    1. tags (one-hot)\n",
    "    2. quantidade de tags\n",
    "\n",
    "\n",
    "5. Remover outliers"
   ]
  },
  {
   "cell_type": "code",
   "execution_count": null,
   "id": "7f909b1f-cdb0-4069-8bfc-25af7b000d61",
   "metadata": {},
   "outputs": [],
   "source": []
  },
  {
   "cell_type": "code",
   "execution_count": null,
   "id": "34e05fd5-50d7-463a-9a58-ce2cf7d34731",
   "metadata": {},
   "outputs": [],
   "source": []
  },
  {
   "cell_type": "code",
   "execution_count": null,
   "id": "c62d766b-bd3b-4027-8394-011a05563b58",
   "metadata": {
    "collapsed": true,
    "jupyter": {
     "outputs_hidden": true
    },
    "tags": []
   },
   "outputs": [
    {
     "ename": "TypeError",
     "evalue": "object of type 'float' has no len()",
     "output_type": "error",
     "traceback": [
      "\u001b[1;31m----------------------------------------------------------\u001b[0m",
      "\u001b[1;31mTypeError\u001b[0m                Traceback (most recent call last)",
      "\u001b[1;32m~\\AppData\\Local\\Temp\\ipykernel_13084\\3054959740.py\u001b[0m in \u001b[0;36m<module>\u001b[1;34m\u001b[0m\n\u001b[0;32m      1\u001b[0m \u001b[1;32mfor\u001b[0m \u001b[0mx\u001b[0m \u001b[1;32min\u001b[0m \u001b[0mcats\u001b[0m\u001b[1;33m:\u001b[0m\u001b[1;33m\u001b[0m\u001b[1;33m\u001b[0m\u001b[0m\n\u001b[1;32m----> 2\u001b[1;33m     \u001b[0mcats_count\u001b[0m\u001b[1;33m.\u001b[0m\u001b[0mappend\u001b[0m\u001b[1;33m(\u001b[0m\u001b[0mlen\u001b[0m\u001b[1;33m(\u001b[0m\u001b[0mx\u001b[0m\u001b[1;33m)\u001b[0m\u001b[1;33m)\u001b[0m\u001b[1;33m\u001b[0m\u001b[1;33m\u001b[0m\u001b[0m\n\u001b[0m\u001b[0;32m      3\u001b[0m \u001b[0mnp\u001b[0m\u001b[1;33m.\u001b[0m\u001b[0mmean\u001b[0m\u001b[1;33m(\u001b[0m\u001b[0mcats_count\u001b[0m\u001b[1;33m)\u001b[0m\u001b[1;33m\u001b[0m\u001b[1;33m\u001b[0m\u001b[0m\n",
      "\u001b[1;31mTypeError\u001b[0m: object of type 'float' has no len()"
     ]
    }
   ],
   "source": [
    "for x in cats:\n",
    "    cats_count.append(len(x))\n",
    "np.mean(cats_count)"
   ]
  }
 ],
 "metadata": {
  "kernelspec": {
   "display_name": "Python 3 (ipykernel)",
   "language": "python",
   "name": "python3"
  },
  "language_info": {
   "codemirror_mode": {
    "name": "ipython",
    "version": 3
   },
   "file_extension": ".py",
   "mimetype": "text/x-python",
   "name": "python",
   "nbconvert_exporter": "python",
   "pygments_lexer": "ipython3",
   "version": "3.8.13"
  },
  "toc-autonumbering": false,
  "toc-showcode": false,
  "toc-showmarkdowntxt": false,
  "widgets": {
   "application/vnd.jupyter.widget-state+json": {
    "state": {},
    "version_major": 2,
    "version_minor": 0
   }
  }
 },
 "nbformat": 4,
 "nbformat_minor": 5
}
